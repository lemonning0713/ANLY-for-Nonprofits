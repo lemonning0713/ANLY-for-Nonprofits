{
 "cells": [
  {
   "cell_type": "code",
   "execution_count": 2,
   "metadata": {},
   "outputs": [],
   "source": [
    "import pandas as pd\n",
    "import matplotlib.pyplot as plt\n",
    "import numpy as np\n",
    "import matplotlib\n",
    "\n",
    "#Data cleaning\n",
    "raw = pd.read_excel('raw data for Andres - Morona BMAP.xlsx', sheet_name = 'Composition')\n",
    "raw['Date'] = pd.to_datetime(raw['Date'], errors='coerce')\n",
    "raw = raw.sort_values(['Phase #','Date']) #Sort by Phase and Date\n",
    "raw[\"SVL (mm)\"] = raw[\"SVL (mm)\"].replace(['na'],[0])\n",
    "#raw.dtypes\n",
    "raw = raw.drop(['Zona','Cola (mm)', 'Codigo foto','Codigo hisopo','Codigo voucher','Obs adicionales'], axis=1)\n",
    "#raw"
   ]
  },
  {
   "cell_type": "code",
   "execution_count": 3,
   "metadata": {},
   "outputs": [
    {
     "name": "stdout",
     "output_type": "stream",
     "text": [
      "Representative animals are: ['tacana' 'danae' 'aff pharangobates' 'gagliardi' 'sp' 'ockendeni'\n",
      " 'andreae' 'sp nov']\n"
     ]
    },
    {
     "data": {
      "text/html": [
       "<div>\n",
       "<style scoped>\n",
       "    .dataframe tbody tr th:only-of-type {\n",
       "        vertical-align: middle;\n",
       "    }\n",
       "\n",
       "    .dataframe tbody tr th {\n",
       "        vertical-align: top;\n",
       "    }\n",
       "\n",
       "    .dataframe thead th {\n",
       "        text-align: right;\n",
       "    }\n",
       "</style>\n",
       "<table border=\"1\" class=\"dataframe\">\n",
       "  <thead>\n",
       "    <tr style=\"text-align: right;\">\n",
       "      <th></th>\n",
       "      <th>Phase #</th>\n",
       "      <th>Especie</th>\n",
       "      <th>count</th>\n",
       "    </tr>\n",
       "  </thead>\n",
       "  <tbody>\n",
       "    <tr>\n",
       "      <th>14</th>\n",
       "      <td>1</td>\n",
       "      <td>tacana</td>\n",
       "      <td>41</td>\n",
       "    </tr>\n",
       "    <tr>\n",
       "      <th>6</th>\n",
       "      <td>1</td>\n",
       "      <td>danae</td>\n",
       "      <td>40</td>\n",
       "    </tr>\n",
       "    <tr>\n",
       "      <th>2</th>\n",
       "      <td>1</td>\n",
       "      <td>aff pharangobates</td>\n",
       "      <td>28</td>\n",
       "    </tr>\n",
       "    <tr>\n",
       "      <th>7</th>\n",
       "      <td>1</td>\n",
       "      <td>gagliardi</td>\n",
       "      <td>22</td>\n",
       "    </tr>\n",
       "    <tr>\n",
       "      <th>11</th>\n",
       "      <td>1</td>\n",
       "      <td>sp</td>\n",
       "      <td>20</td>\n",
       "    </tr>\n",
       "    <tr>\n",
       "      <th>32</th>\n",
       "      <td>2</td>\n",
       "      <td>tacana</td>\n",
       "      <td>32</td>\n",
       "    </tr>\n",
       "    <tr>\n",
       "      <th>21</th>\n",
       "      <td>2</td>\n",
       "      <td>danae</td>\n",
       "      <td>22</td>\n",
       "    </tr>\n",
       "    <tr>\n",
       "      <th>29</th>\n",
       "      <td>2</td>\n",
       "      <td>sp</td>\n",
       "      <td>17</td>\n",
       "    </tr>\n",
       "    <tr>\n",
       "      <th>25</th>\n",
       "      <td>2</td>\n",
       "      <td>ockendeni</td>\n",
       "      <td>16</td>\n",
       "    </tr>\n",
       "    <tr>\n",
       "      <th>18</th>\n",
       "      <td>2</td>\n",
       "      <td>andreae</td>\n",
       "      <td>10</td>\n",
       "    </tr>\n",
       "    <tr>\n",
       "      <th>41</th>\n",
       "      <td>3</td>\n",
       "      <td>danae</td>\n",
       "      <td>48</td>\n",
       "    </tr>\n",
       "    <tr>\n",
       "      <th>52</th>\n",
       "      <td>3</td>\n",
       "      <td>tacana</td>\n",
       "      <td>40</td>\n",
       "    </tr>\n",
       "    <tr>\n",
       "      <th>44</th>\n",
       "      <td>3</td>\n",
       "      <td>gagliardi</td>\n",
       "      <td>21</td>\n",
       "    </tr>\n",
       "    <tr>\n",
       "      <th>50</th>\n",
       "      <td>3</td>\n",
       "      <td>sp</td>\n",
       "      <td>14</td>\n",
       "    </tr>\n",
       "    <tr>\n",
       "      <th>36</th>\n",
       "      <td>3</td>\n",
       "      <td>aff pharangobates</td>\n",
       "      <td>11</td>\n",
       "    </tr>\n",
       "    <tr>\n",
       "      <th>60</th>\n",
       "      <td>4</td>\n",
       "      <td>danae</td>\n",
       "      <td>44</td>\n",
       "    </tr>\n",
       "    <tr>\n",
       "      <th>69</th>\n",
       "      <td>4</td>\n",
       "      <td>tacana</td>\n",
       "      <td>26</td>\n",
       "    </tr>\n",
       "    <tr>\n",
       "      <th>66</th>\n",
       "      <td>4</td>\n",
       "      <td>ockendeni</td>\n",
       "      <td>12</td>\n",
       "    </tr>\n",
       "    <tr>\n",
       "      <th>57</th>\n",
       "      <td>4</td>\n",
       "      <td>aff pharangobates</td>\n",
       "      <td>10</td>\n",
       "    </tr>\n",
       "    <tr>\n",
       "      <th>67</th>\n",
       "      <td>4</td>\n",
       "      <td>sp</td>\n",
       "      <td>9</td>\n",
       "    </tr>\n",
       "    <tr>\n",
       "      <th>86</th>\n",
       "      <td>5</td>\n",
       "      <td>sp</td>\n",
       "      <td>30</td>\n",
       "    </tr>\n",
       "    <tr>\n",
       "      <th>75</th>\n",
       "      <td>5</td>\n",
       "      <td>andreae</td>\n",
       "      <td>25</td>\n",
       "    </tr>\n",
       "    <tr>\n",
       "      <th>77</th>\n",
       "      <td>5</td>\n",
       "      <td>danae</td>\n",
       "      <td>22</td>\n",
       "    </tr>\n",
       "    <tr>\n",
       "      <th>88</th>\n",
       "      <td>5</td>\n",
       "      <td>tacana</td>\n",
       "      <td>20</td>\n",
       "    </tr>\n",
       "    <tr>\n",
       "      <th>87</th>\n",
       "      <td>5</td>\n",
       "      <td>sp nov</td>\n",
       "      <td>9</td>\n",
       "    </tr>\n",
       "  </tbody>\n",
       "</table>\n",
       "</div>"
      ],
      "text/plain": [
       "    Phase #            Especie  count\n",
       "14        1             tacana     41\n",
       "6         1              danae     40\n",
       "2         1  aff pharangobates     28\n",
       "7         1          gagliardi     22\n",
       "11        1                 sp     20\n",
       "32        2             tacana     32\n",
       "21        2              danae     22\n",
       "29        2                 sp     17\n",
       "25        2          ockendeni     16\n",
       "18        2            andreae     10\n",
       "41        3              danae     48\n",
       "52        3             tacana     40\n",
       "44        3          gagliardi     21\n",
       "50        3                 sp     14\n",
       "36        3  aff pharangobates     11\n",
       "60        4              danae     44\n",
       "69        4             tacana     26\n",
       "66        4          ockendeni     12\n",
       "57        4  aff pharangobates     10\n",
       "67        4                 sp      9\n",
       "86        5                 sp     30\n",
       "75        5            andreae     25\n",
       "77        5              danae     22\n",
       "88        5             tacana     20\n",
       "87        5             sp nov      9"
      ]
     },
     "execution_count": 3,
     "metadata": {},
     "output_type": "execute_result"
    }
   ],
   "source": [
    "#Choose representative species for visualization\n",
    "##Find the frequency of animals in each phase\n",
    "groups = raw.groupby(['Phase #','Especie']).size().reset_index(name='count') \n",
    "groups = groups.sort_values(by = ['Phase #','count'], ascending = [True,False])\n",
    "#groups\n",
    "\n",
    "#Choose 5 most popular animals in each phase\n",
    "groups_selected = pd.DataFrame()\n",
    "for i in range(1,6):\n",
    "    groups_selected = groups_selected.append(groups[groups['Phase #']== i][0:5])\n",
    "#groups_selected\n",
    "    \n",
    "print('Representative animals are:', groups_selected.Especie.unique())\n",
    "groups_selected\n"
   ]
  },
  {
   "cell_type": "code",
   "execution_count": 4,
   "metadata": {},
   "outputs": [
    {
     "name": "stderr",
     "output_type": "stream",
     "text": [
      "/Library/Frameworks/Python.framework/Versions/3.7/lib/python3.7/site-packages/matplotlib/axes/_axes.py:6735: RuntimeWarning: All-NaN slice encountered\n",
      "  xmin = min(xmin, np.nanmin(xi))\n",
      "/Library/Frameworks/Python.framework/Versions/3.7/lib/python3.7/site-packages/matplotlib/axes/_axes.py:6736: RuntimeWarning: All-NaN slice encountered\n",
      "  xmax = max(xmax, np.nanmax(xi))\n"
     ]
    },
    {
     "data": {
      "image/png": "[encoded data removed]",
      "text/plain": [
       "<Figure size 432x288 with 1 Axes>"
      ]
     },
     "metadata": {
      "needs_background": "light"
     },
     "output_type": "display_data"
    },
    {
     "data": {
      "image/png": "[encoded data removed]",
      "text/plain": [
       "<Figure size 432x288 with 1 Axes>"
      ]
     },
     "metadata": {
      "needs_background": "light"
     },
     "output_type": "display_data"
    },
    {
     "data": {
      "image/png": "[encoded data removed]",
      "text/plain": [
       "<Figure size 432x288 with 1 Axes>"
      ]
     },
     "metadata": {
      "needs_background": "light"
     },
     "output_type": "display_data"
    },
    {
     "data": {
      "image/png": "[encoded data removed]",
      "text/plain": [
       "<Figure size 432x288 with 1 Axes>"
      ]
     },
     "metadata": {
      "needs_background": "light"
     },
     "output_type": "display_data"
    },
    {
     "data": {
      "image/png": "[encoded data removed]",
      "text/plain": [
       "<Figure size 432x288 with 1 Axes>"
      ]
     },
     "metadata": {
      "needs_background": "light"
     },
     "output_type": "display_data"
    },
    {
     "data": {
      "image/png": "[encoded data removed]",
      "text/plain": [
       "<Figure size 432x288 with 1 Axes>"
      ]
     },
     "metadata": {
      "needs_background": "light"
     },
     "output_type": "display_data"
    },
    {
     "data": {
      "image/png": "[encoded data removed]",
      "text/plain": [
       "<Figure size 432x288 with 1 Axes>"
      ]
     },
     "metadata": {
      "needs_background": "light"
     },
     "output_type": "display_data"
    },
    {
     "data": {
      "image/png": "[encoded data removed]",
      "text/plain": [
       "<Figure size 432x288 with 1 Axes>"
      ]
     },
     "metadata": {
      "needs_background": "light"
     },
     "output_type": "display_data"
    }
   ],
   "source": [
    "#Visualization\n",
    "canvas = dict(alpha=1)\n",
    "labels = ['Phase 1', 'Phase 2', 'Phase 3', 'Phase 4', 'Phase 5']\n",
    "\n",
    "for n in groups_selected.Especie.unique():\n",
    "    animal = raw[raw[\"Especie\"] == n]\n",
    "    plt.figure()\n",
    "    data0 = pd.DataFrame()\n",
    "    for i in range(1,6):\n",
    "        data0 = data0.append(animal[animal['Phase #']==i][\"SVL (mm)\"])\n",
    "    plt.hist(data0, **canvas,  label= labels)\n",
    "    plt.gca().set(title='Histogram of SVL(mm) - '+n, ylabel='Quantity')\n",
    "    plt.xlim(0,50)\n",
    "    plt.legend()\n"
   ]
  },
  {
   "cell_type": "code",
   "execution_count": 1,
   "metadata": {},
   "outputs": [],
   "source": [
    "#raw.dtypes"
   ]
  },
  {
   "cell_type": "code",
   "execution_count": 6,
   "metadata": {},
   "outputs": [
    {
     "data": {
      "image/png": "[encoded data removed]",
      "text/plain": [
       "<Figure size 432x288 with 1 Axes>"
      ]
     },
     "metadata": {
      "needs_background": "light"
     },
     "output_type": "display_data"
    }
   ],
   "source": [
    "group_EC = raw.loc[raw[\"Phase\"] == \"EC\"]\n",
    "group_RI = raw.loc[raw[\"Phase\"] == \"RI\"]\n",
    "group_AB = raw.loc[raw[\"Phase\"] == \"AB\"]\n",
    "\n",
    "summary_EC = group_EC.groupby(['Familia']).size().reset_index(name = 'count')\n",
    "summary_RI = group_RI.groupby(['Familia']).size().reset_index(name = 'count')\n",
    "summary_AB = group_AB.groupby(['Familia']).size().reset_index(name = 'count')\n",
    "\n",
    "\n",
    "# data to plot\n",
    "n_groups1 = 6\n",
    "\n",
    "# create plot\n",
    "fig, ax = plt.subplots()\n",
    "index = np.arange(n_groups1)\n",
    "bar_width = 0.3\n",
    "opacity = 0.8\n",
    "\n",
    "rects1 = plt.bar(index, summary_EC['count'], bar_width, \n",
    "alpha=opacity,\n",
    "color='b',\n",
    "label='Phase EC')\n",
    "\n",
    "rects2 = plt.bar(index + bar_width, summary_RI['count'], bar_width,\n",
    "alpha=opacity,\n",
    "color='g',\n",
    "label='Phase RI')\n",
    "\n",
    "rects3 = plt.bar(index + bar_width + bar_width, summary_AB['count'], bar_width,\n",
    "alpha=opacity,\n",
    "color='y',\n",
    "label='Phase AB')\n",
    "\n",
    "\n",
    "plt.xlabel('Familia')\n",
    "plt.ylabel('Quantity')\n",
    "plt.title('Familia Observations by Phase')\n",
    "plt.xticks(index + bar_width, \n",
    "           ('Bufonidae', 'Centrolenidae', 'Craugastoridae', 'Hylidae', 'Leptodactylidae','Plethodontidae'), size=7)\n",
    "plt.legend()\n",
    "plt.tight_layout()\n",
    "plt.show()"
   ]
  },
  {
   "cell_type": "code",
   "execution_count": 7,
   "metadata": {},
   "outputs": [
    {
     "data": {
      "text/html": [
       "<div>\n",
       "<style scoped>\n",
       "    .dataframe tbody tr th:only-of-type {\n",
       "        vertical-align: middle;\n",
       "    }\n",
       "\n",
       "    .dataframe tbody tr th {\n",
       "        vertical-align: top;\n",
       "    }\n",
       "\n",
       "    .dataframe thead th {\n",
       "        text-align: right;\n",
       "    }\n",
       "</style>\n",
       "<table border=\"1\" class=\"dataframe\">\n",
       "  <thead>\n",
       "    <tr style=\"text-align: right;\">\n",
       "      <th></th>\n",
       "      <th>OPE</th>\n",
       "      <th>Rain</th>\n",
       "      <th>S_fuel</th>\n",
       "      <th>flights</th>\n",
       "    </tr>\n",
       "    <tr>\n",
       "      <th>Phase-1</th>\n",
       "      <th></th>\n",
       "      <th></th>\n",
       "      <th></th>\n",
       "      <th></th>\n",
       "    </tr>\n",
       "  </thead>\n",
       "  <tbody>\n",
       "    <tr>\n",
       "      <th>DR</th>\n",
       "      <td>7.090909</td>\n",
       "      <td>1.627273</td>\n",
       "      <td>175.636364</td>\n",
       "      <td>14.454545</td>\n",
       "    </tr>\n",
       "    <tr>\n",
       "      <th>EC</th>\n",
       "      <td>4.166667</td>\n",
       "      <td>2.458333</td>\n",
       "      <td>0.000000</td>\n",
       "      <td>5.333333</td>\n",
       "    </tr>\n",
       "    <tr>\n",
       "      <th>LC</th>\n",
       "      <td>14.833333</td>\n",
       "      <td>1.833333</td>\n",
       "      <td>469.250000</td>\n",
       "      <td>11.166667</td>\n",
       "    </tr>\n",
       "    <tr>\n",
       "      <th>RI</th>\n",
       "      <td>6.000000</td>\n",
       "      <td>0.000000</td>\n",
       "      <td>360.600000</td>\n",
       "      <td>3.600000</td>\n",
       "    </tr>\n",
       "  </tbody>\n",
       "</table>\n",
       "</div>"
      ],
      "text/plain": [
       "               OPE      Rain      S_fuel    flights\n",
       "Phase-1                                            \n",
       "DR        7.090909  1.627273  175.636364  14.454545\n",
       "EC        4.166667  2.458333    0.000000   5.333333\n",
       "LC       14.833333  1.833333  469.250000  11.166667\n",
       "RI        6.000000  0.000000  360.600000   3.600000"
      ]
     },
     "execution_count": 7,
     "metadata": {},
     "output_type": "execute_result"
    }
   ],
   "source": [
    "noObser = pd.read_csv('noObser.csv', index_col = 0)\n",
    "noObser\n",
    "haveObser = pd.read_csv('haveObser.csv', index_col = 0)\n",
    "haveObser_clean = haveObser.groupby('Phase-1').agg('mean')[['OPE','Rain','S_fuel','flights']] #1\n",
    "noObser_clean = noObser.groupby('Phase-1').agg('mean')[['OPE','Rain','S_fuel','flights']]\n",
    "haveObser_clean"
   ]
  },
  {
   "cell_type": "code",
   "execution_count": 8,
   "metadata": {},
   "outputs": [
    {
     "data": {
      "text/html": [
       "<div>\n",
       "<style scoped>\n",
       "    .dataframe tbody tr th:only-of-type {\n",
       "        vertical-align: middle;\n",
       "    }\n",
       "\n",
       "    .dataframe tbody tr th {\n",
       "        vertical-align: top;\n",
       "    }\n",
       "\n",
       "    .dataframe thead th {\n",
       "        text-align: right;\n",
       "    }\n",
       "</style>\n",
       "<table border=\"1\" class=\"dataframe\">\n",
       "  <thead>\n",
       "    <tr style=\"text-align: right;\">\n",
       "      <th></th>\n",
       "      <th>OPE</th>\n",
       "      <th>Rain</th>\n",
       "      <th>S_fuel</th>\n",
       "      <th>flights</th>\n",
       "    </tr>\n",
       "    <tr>\n",
       "      <th>Phase-1</th>\n",
       "      <th></th>\n",
       "      <th></th>\n",
       "      <th></th>\n",
       "      <th></th>\n",
       "    </tr>\n",
       "  </thead>\n",
       "  <tbody>\n",
       "    <tr>\n",
       "      <th>DR</th>\n",
       "      <td>8.315789</td>\n",
       "      <td>1.789474</td>\n",
       "      <td>218.842105</td>\n",
       "      <td>14.052632</td>\n",
       "    </tr>\n",
       "    <tr>\n",
       "      <th>EC</th>\n",
       "      <td>1.611111</td>\n",
       "      <td>1.555556</td>\n",
       "      <td>35.555556</td>\n",
       "      <td>3.333333</td>\n",
       "    </tr>\n",
       "    <tr>\n",
       "      <th>LC</th>\n",
       "      <td>14.375000</td>\n",
       "      <td>2.312500</td>\n",
       "      <td>471.437500</td>\n",
       "      <td>8.375000</td>\n",
       "    </tr>\n",
       "    <tr>\n",
       "      <th>RI</th>\n",
       "      <td>5.578947</td>\n",
       "      <td>0.000000</td>\n",
       "      <td>373.736842</td>\n",
       "      <td>9.263158</td>\n",
       "    </tr>\n",
       "  </tbody>\n",
       "</table>\n",
       "</div>"
      ],
      "text/plain": [
       "               OPE      Rain      S_fuel    flights\n",
       "Phase-1                                            \n",
       "DR        8.315789  1.789474  218.842105  14.052632\n",
       "EC        1.611111  1.555556   35.555556   3.333333\n",
       "LC       14.375000  2.312500  471.437500   8.375000\n",
       "RI        5.578947  0.000000  373.736842   9.263158"
      ]
     },
     "execution_count": 8,
     "metadata": {},
     "output_type": "execute_result"
    }
   ],
   "source": [
    "noObser_clean"
   ]
  },
  {
   "cell_type": "code",
   "execution_count": 9,
   "metadata": {},
   "outputs": [
    {
     "data": {
      "text/html": [
       "<div>\n",
       "<style scoped>\n",
       "    .dataframe tbody tr th:only-of-type {\n",
       "        vertical-align: middle;\n",
       "    }\n",
       "\n",
       "    .dataframe tbody tr th {\n",
       "        vertical-align: top;\n",
       "    }\n",
       "\n",
       "    .dataframe thead th {\n",
       "        text-align: right;\n",
       "    }\n",
       "</style>\n",
       "<table border=\"1\" class=\"dataframe\">\n",
       "  <thead>\n",
       "    <tr style=\"text-align: right;\">\n",
       "      <th></th>\n",
       "      <th>OPE-0</th>\n",
       "      <th>Rain-0</th>\n",
       "      <th>S_fuel-0</th>\n",
       "      <th>flights-0</th>\n",
       "      <th>OPE-1</th>\n",
       "      <th>Rain-1</th>\n",
       "      <th>S_fuel-1</th>\n",
       "      <th>flights-1</th>\n",
       "    </tr>\n",
       "    <tr>\n",
       "      <th>Phase-1</th>\n",
       "      <th></th>\n",
       "      <th></th>\n",
       "      <th></th>\n",
       "      <th></th>\n",
       "      <th></th>\n",
       "      <th></th>\n",
       "      <th></th>\n",
       "      <th></th>\n",
       "    </tr>\n",
       "  </thead>\n",
       "  <tbody>\n",
       "    <tr>\n",
       "      <th>DR</th>\n",
       "      <td>8.315789</td>\n",
       "      <td>1.789474</td>\n",
       "      <td>218.842105</td>\n",
       "      <td>14.052632</td>\n",
       "      <td>7.090909</td>\n",
       "      <td>1.627273</td>\n",
       "      <td>175.636364</td>\n",
       "      <td>14.454545</td>\n",
       "    </tr>\n",
       "    <tr>\n",
       "      <th>EC</th>\n",
       "      <td>1.611111</td>\n",
       "      <td>1.555556</td>\n",
       "      <td>35.555556</td>\n",
       "      <td>3.333333</td>\n",
       "      <td>4.166667</td>\n",
       "      <td>2.458333</td>\n",
       "      <td>0.000000</td>\n",
       "      <td>5.333333</td>\n",
       "    </tr>\n",
       "    <tr>\n",
       "      <th>LC</th>\n",
       "      <td>14.375000</td>\n",
       "      <td>2.312500</td>\n",
       "      <td>471.437500</td>\n",
       "      <td>8.375000</td>\n",
       "      <td>14.833333</td>\n",
       "      <td>1.833333</td>\n",
       "      <td>469.250000</td>\n",
       "      <td>11.166667</td>\n",
       "    </tr>\n",
       "    <tr>\n",
       "      <th>RI</th>\n",
       "      <td>5.578947</td>\n",
       "      <td>0.000000</td>\n",
       "      <td>373.736842</td>\n",
       "      <td>9.263158</td>\n",
       "      <td>6.000000</td>\n",
       "      <td>0.000000</td>\n",
       "      <td>360.600000</td>\n",
       "      <td>3.600000</td>\n",
       "    </tr>\n",
       "  </tbody>\n",
       "</table>\n",
       "</div>"
      ],
      "text/plain": [
       "             OPE-0    Rain-0    S_fuel-0  flights-0      OPE-1    Rain-1  \\\n",
       "Phase-1                                                                    \n",
       "DR        8.315789  1.789474  218.842105  14.052632   7.090909  1.627273   \n",
       "EC        1.611111  1.555556   35.555556   3.333333   4.166667  2.458333   \n",
       "LC       14.375000  2.312500  471.437500   8.375000  14.833333  1.833333   \n",
       "RI        5.578947  0.000000  373.736842   9.263158   6.000000  0.000000   \n",
       "\n",
       "           S_fuel-1  flights-1  \n",
       "Phase-1                         \n",
       "DR       175.636364  14.454545  \n",
       "EC         0.000000   5.333333  \n",
       "LC       469.250000  11.166667  \n",
       "RI       360.600000   3.600000  "
      ]
     },
     "execution_count": 9,
     "metadata": {},
     "output_type": "execute_result"
    }
   ],
   "source": [
    "join_clean =pd.concat([noObser_clean,haveObser_clean],axis =1)\n",
    "join_clean.columns = ['OPE-0', 'Rain-0', 'S_fuel-0', 'flights-0', 'OPE-1', 'Rain-1', 'S_fuel-1', 'flights-1'] \n",
    "join_clean"
   ]
  },
  {
   "cell_type": "code",
   "execution_count": 10,
   "metadata": {},
   "outputs": [
    {
     "data": {
      "image/png": "[encoded data removed]",
      "text/plain": [
       "<Figure size 432x288 with 1 Axes>"
      ]
     },
     "metadata": {
      "needs_background": "light"
     },
     "output_type": "display_data"
    }
   ],
   "source": [
    "factors = ['OPE', 'Rain', 'Fuel', 'Flights']\n",
    "\n",
    "# data to plot\n",
    "n_groups2 = 4\n",
    "\n",
    "# create plot\n",
    "fig, ax = plt.subplots()\n",
    "index = np.arange(n_groups2)\n",
    "bar_width = 0.3\n",
    "opacity = 0.8\n",
    "\n",
    "rects1 = plt.bar(index, join_clean['OPE-0'], bar_width, \n",
    "alpha=opacity,\n",
    "color='b',\n",
    "label='No Observation')\n",
    "\n",
    "rects2 = plt.bar(index + bar_width, join_clean['OPE-1'], bar_width,\n",
    "alpha=opacity,\n",
    "color='g',\n",
    "label='Have Observation')\n",
    "\n",
    "plt.xlabel('Phase')\n",
    "plt.ylabel('Average # per day')\n",
    "plt.title('Average # of OPE Each day by Phase')\n",
    "plt.xticks(index + bar_width, ('DR', 'EC','LC','RI'))\n",
    "plt.legend()\n",
    "plt.tight_layout()\n",
    "plt.show()"
   ]
  },
  {
   "cell_type": "code",
   "execution_count": 11,
   "metadata": {},
   "outputs": [
    {
     "data": {
      "text/plain": [
       "<Figure size 432x288 with 0 Axes>"
      ]
     },
     "metadata": {},
     "output_type": "display_data"
    },
    {
     "data": {
      "image/png": "[encoded data removed]",
      "text/plain": [
       "<Figure size 432x288 with 1 Axes>"
      ]
     },
     "metadata": {
      "needs_background": "light"
     },
     "output_type": "display_data"
    },
    {
     "data": {
      "text/plain": [
       "<Figure size 432x288 with 0 Axes>"
      ]
     },
     "metadata": {},
     "output_type": "display_data"
    },
    {
     "data": {
      "image/png": "[encoded data removed]",
      "text/plain": [
       "<Figure size 432x288 with 1 Axes>"
      ]
     },
     "metadata": {
      "needs_background": "light"
     },
     "output_type": "display_data"
    },
    {
     "data": {
      "text/plain": [
       "<Figure size 432x288 with 0 Axes>"
      ]
     },
     "metadata": {},
     "output_type": "display_data"
    },
    {
     "data": {
      "image/png": "[encoded data removed]",
      "text/plain": [
       "<Figure size 432x288 with 1 Axes>"
      ]
     },
     "metadata": {
      "needs_background": "light"
     },
     "output_type": "display_data"
    },
    {
     "data": {
      "text/plain": [
       "<Figure size 432x288 with 0 Axes>"
      ]
     },
     "metadata": {},
     "output_type": "display_data"
    },
    {
     "data": {
      "image/png": "[encoded data removed]",
      "text/plain": [
       "<Figure size 432x288 with 1 Axes>"
      ]
     },
     "metadata": {
      "needs_background": "light"
     },
     "output_type": "display_data"
    }
   ],
   "source": [
    "factors = ['OPE', 'Rain', 'Fuel', 'Flights']\n",
    "\n",
    "for n in range(4):\n",
    "    n_groups2 = 4\n",
    "    plt.figure()\n",
    "    fig, ax = plt.subplots()\n",
    "    index = np.arange(n_groups2)\n",
    "    bar_width = 0.3\n",
    "    opacity = 0.8\n",
    "\n",
    "    rects1 = plt.bar(index, join_clean.iloc[:,n], bar_width, \n",
    "    alpha=opacity,\n",
    "    color='b',\n",
    "    label='No Observation')\n",
    "\n",
    "    rects2 = plt.bar(index + bar_width, join_clean.iloc[:,n+4], bar_width,\n",
    "    alpha=opacity,\n",
    "    color='g',\n",
    "    label='Have Observation')\n",
    "\n",
    "    plt.xlabel('Phase')\n",
    "    plt.ylabel('Average #'+factors[n]+' per day')\n",
    "    plt.title(factors[n] )\n",
    "    plt.xticks(index + bar_width, ('DR', 'EC','LC','RI'))\n",
    "    plt.legend()\n",
    "    plt.tight_layout()\n",
    "    plt.show()"
   ]
  }
 ],
 "metadata": {
  "kernelspec": {
   "display_name": "Python 3",
   "language": "python",
   "name": "python3"
  },
  "language_info": {
   "codemirror_mode": {
    "name": "ipython",
    "version": 3
   },
   "file_extension": ".py",
   "mimetype": "text/x-python",
   "name": "python",
   "nbconvert_exporter": "python",
   "pygments_lexer": "ipython3",
   "version": "3.7.2"
  }
 },
 "nbformat": 4,
 "nbformat_minor": 2
}
